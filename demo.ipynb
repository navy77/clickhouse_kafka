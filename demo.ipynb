{
 "cells": [
  {
   "cell_type": "code",
   "execution_count": null,
   "id": "b0fbe139",
   "metadata": {},
   "outputs": [],
   "source": [
    "import clickhouse_connect \n",
    "import pandas as pd\n",
    "client = clickhouse_connect.get_client(host='192.168.0.191', port=9123, username='admin', password='password')  \n",
    "query_result = client.query('SELECT * FROM iot_db.datamicdemo1') \n",
    "df = pd.DataFrame(query_result.result_rows)\n",
    "print(df.head(5))\n",
    "# df.to_csv('data.csv',index=False)"
   ]
  }
 ],
 "metadata": {
  "kernelspec": {
   "display_name": "Python 3",
   "language": "python",
   "name": "python3"
  },
  "language_info": {
   "codemirror_mode": {
    "name": "ipython",
    "version": 3
   },
   "file_extension": ".py",
   "mimetype": "text/x-python",
   "name": "python",
   "nbconvert_exporter": "python",
   "pygments_lexer": "ipython3",
   "version": "3.11.8"
  }
 },
 "nbformat": 4,
 "nbformat_minor": 5
}
